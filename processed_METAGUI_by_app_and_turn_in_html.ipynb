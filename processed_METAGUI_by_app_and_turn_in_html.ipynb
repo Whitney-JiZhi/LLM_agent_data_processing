{
  "nbformat": 4,
  "nbformat_minor": 0,
  "metadata": {
    "colab": {
      "provenance": [],
      "authorship_tag": "ABX9TyNtQFlf+9EOtt6HEXTKI8tg"
    },
    "kernelspec": {
      "name": "python3",
      "display_name": "Python 3"
    },
    "language_info": {
      "name": "python"
    }
  },
  "cells": [
    {
      "cell_type": "code",
      "execution_count": null,
      "metadata": {
        "colab": {
          "base_uri": "https://localhost:8080/"
        },
        "id": "jsuU92TCNMPY",
        "outputId": "a6659e64-0535-4ef8-a417-8b95eec88174"
      },
      "outputs": [
        {
          "output_type": "stream",
          "name": "stdout",
          "text": [
            "Mounted at /content/drive\n"
          ]
        }
      ],
      "source": [
        "from google.colab import drive\n",
        "drive.mount('/content/drive')"
      ]
    },
    {
      "cell_type": "code",
      "source": [
        "import json\n",
        "\n",
        "# json_file_path = \"put your path here\"\n",
        "\n",
        "with open(json_file_path, 'r') as file:\n",
        "    data = json.load(file)\n"
      ],
      "metadata": {
        "id": "_kRTqX-SPAkz"
      },
      "execution_count": null,
      "outputs": []
    },
    {
      "cell_type": "code",
      "source": [
        "def insert_phrase_after_kth_newline(original_string, phrase, k):\n",
        "\n",
        "    lines = original_string.split('\\n')\n",
        "    lines[k] = lines[k] + phrase\n",
        "    modified_string = '\\n'.join(lines)\n",
        "\n",
        "    return modified_string"
      ],
      "metadata": {
        "id": "tDOSFPz9UACM"
      },
      "execution_count": null,
      "outputs": []
    },
    {
      "cell_type": "code",
      "source": [
        "import re\n",
        "\n",
        "def extract_dialog_from_path(path):\n",
        "    match = re.search(r'dialog_(\\d+)', path)\n",
        "    if match:\n",
        "        return match.group(1)\n",
        "    else:\n",
        "        return None\n",
        "\n",
        "def extract_turn_from_path(path):\n",
        "    match = re.search(r'turn_(\\d+)', path)\n",
        "    if match:\n",
        "        return match.group(1)\n",
        "    else:\n",
        "        return None\n",
        "\n",
        "def extract_state_from_path(path):\n",
        "    match = re.search(r'(\\d+).png', path)\n",
        "    if match:\n",
        "        return match.group(1)\n",
        "    else:\n",
        "        return None"
      ],
      "metadata": {
        "id": "bQp3jvVJa7KO"
      },
      "execution_count": null,
      "outputs": []
    },
    {
      "cell_type": "code",
      "source": [
        "def dict_to_html(data):\n",
        "\n",
        "    all_html_list = []\n",
        "    seen_apps_list = []\n",
        "\n",
        "    for each_page in data:\n",
        "        html = ''\n",
        "        dialog = extract_dialog_from_path(each_page.get(\"screenshot_history\")[-1])\n",
        "        turn = extract_turn_from_path(each_page.get(\"screenshot_history\")[-1])\n",
        "        state = extract_state_from_path(each_page.get(\"screenshot_history\")[-1])\n",
        "        html += f\"Dialog {dialog} Turn {turn} State {state}:\\n\"\n",
        "        items = each_page.get(\"items\", [])\n",
        "        app = each_page.get(\"apps\", [])[0]\n",
        "        action = each_page.get(\"action\")\n",
        "        if app not in seen_apps_list:\n",
        "            seen_apps_list.append(app)\n",
        "\n",
        "        for item_index, each_item in enumerate(items):\n",
        "            text = each_item.get(\"text\", {}).get(\"text\", \"\")\n",
        "            content_desc = each_item.get(\"text\", {}).get(\"content-desc\", \"\")\n",
        "            element_type = each_item.get(\"type\", \"\")\n",
        "            border = each_item.get(\"border\", [])\n",
        "\n",
        "            if element_type == \"android.widget.TextView\":\n",
        "                html += f'<element{item_index}:<TextView>{text}</TextView>\\n'\n",
        "            elif element_type == \"android.widget.ImageView\":\n",
        "                html += f'<element{item_index}:<ImageView>{content_desc}</ImageView>\\n'\n",
        "            elif element_type == \"android.widget.LinearLayout\":\n",
        "                html += f'<element{item_index}:<LinearLayout>{content_desc}</LinearLayout>\\n'\n",
        "            elif element_type == \"android.widget.ImageButton\":\n",
        "                html += f'<element{item_index}:<ImageButton>{content_desc}</ImageButton>\\n'\n",
        "            elif element_type == \"android.widget.Button\":\n",
        "                html += f'<element{item_index}:<Button>{text}</Button>\\n'\n",
        "            elif element_type == \"android.widget.EditText\":\n",
        "                html += f'<element{item_index}:<EditText>{text}</EditText>\\n'\n",
        "            elif element_type == \"android.widget.Switch\":\n",
        "                html += f'<element{item_index}:<Switch>{text}</Switch>\\n'\n",
        "            elif element_type == \"android.view.View\":\n",
        "                html += f'<element{item_index}:<View>{content_desc}</View>\\n'\n",
        "            elif element_type == \"android.view.ViewGroup\":\n",
        "                html += f'<element{item_index}:<ViewGroup>{border}</ViewGroup>\\n' # \"text\": null, \"content-desc\": \"\"\n",
        "            elif element_type == \"android.widget.CheckedTextView\":\n",
        "                html += f'<element{item_index}:<CheckedTextView>{text}</CheckedTextView>\\n'\n",
        "            elif element_type == \"android.widget.RelativeLayout\":\n",
        "                html += f'<element{item_index}:<RelativeLayout>{content_desc}</RelativeLayout>\\n'\n",
        "            elif element_type == \"android.webkit.WebView\":\n",
        "                html += f'<element{item_index}:<WebView>{border}</WebView>\\n' # \"text\": null, \"content-desc\": \"\"\n",
        "            elif element_type == \"android.widget.android.widget.Image\":\n",
        "                html += f'<element{item_index}:<Image>{text}</Image>\\n'\n",
        "            elif element_type == \"android.widget.ToggleButton\":\n",
        "                html += f'<element{item_index}:<ToggleButton>{content_desc}</ToggleButton>\\n'\n",
        "            elif element_type == \"android.widget.ListView\":\n",
        "                html += f'<element{item_index}:<ListView>{content_desc}</ListView>\\n'\n",
        "            elif element_type == \"android.widget.FrameLayout\":\n",
        "                html += f'<element{item_index}:<FrameLayout>{border}</FrameLayout>\\n' # \"text\": null, \"content-desc\": \"\"\n",
        "            elif element_type == \"android.widget.RadioButton\":\n",
        "                html += f'<element{item_index}:<RadioButton>{text}</RadioButton>\\n'\n",
        "            elif element_type == \"android.widget.CheckBox\":\n",
        "                html += f'<element{item_index}:<CheckBox>{text}</CheckBox>\\n'\n",
        "\n",
        "        input_content = each_page.get(\"input\")\n",
        "        html += f'<element{item_index+1}:<Input>{input_content}</Input>'\n",
        "        if input_content != None:\n",
        "            if extract_dialog_from_path(data[data.index(each_page) + 1].get(\"screenshot_history\")[-1]) == dialog and extract_turn_from_path(data[data.index(each_page) + 1].get(\"screenshot_history\")[-1]) == turn:\n",
        "                html += f' // on input {input_content}, go to Dialog {dialog} Turn {turn} State {int(state)+1}\\n'\n",
        "            elif extract_dialog_from_path(data[data.index(each_page) + 1].get(\"screenshot_history\")[-1]) == dialog and extract_turn_from_path(data[data.index(each_page) + 1].get(\"screenshot_history\")[-1]) != turn:\n",
        "                html += f' // on input {input_content}, go to Dialog {dialog} Turn {int(turn)+1} State {0}\\n'\n",
        "            elif extract_dialog_from_path(data[data.index(each_page) + 1].get(\"screenshot_history\")[-1]) != dialog:\n",
        "                html += f' // on input {input_content}, go to Dialog {int(dialog)+1} Turn {0} State {0}\\n'\n",
        "        else:\n",
        "            html += '\\n'\n",
        "\n",
        "        scroll_dir = each_page.get(\"scroll\")\n",
        "        html += f'<element{item_index+2}:<Scroll>{scroll_dir}</Scroll>'\n",
        "        if scroll_dir != None:\n",
        "            if extract_dialog_from_path(data[data.index(each_page) + 1].get(\"screenshot_history\")[-1]) == dialog and extract_turn_from_path(data[data.index(each_page) + 1].get(\"screenshot_history\")[-1]) == turn:\n",
        "                html += f' // on scroll {scroll_dir}, go to Dialog {dialog} Turn {turn} State {int(state)+1}\\n'\n",
        "            elif extract_dialog_from_path(data[data.index(each_page) + 1].get(\"screenshot_history\")[-1]) == dialog and extract_turn_from_path(data[data.index(each_page) + 1].get(\"screenshot_history\")[-1]) != turn:\n",
        "                html += f' // on scroll {scroll_dir}, go to Dialog {dialog} Turn {int(turn)+1} State {0}\\n'\n",
        "            elif extract_dialog_from_path(data[data.index(each_page) + 1].get(\"screenshot_history\")[-1]) != dialog:\n",
        "                html += f' // on scroll {scroll_dir}, go to Dialog {int(dialog)+1} Turn {0} State {0}\\n'\n",
        "        else:\n",
        "            html += '\\n'\n",
        "\n",
        "        if each_page.get(\"target\") != None:\n",
        "            if extract_dialog_from_path(data[data.index(each_page) + 1].get(\"screenshot_history\")[-1]) == dialog and extract_turn_from_path(data[data.index(each_page) + 1].get(\"screenshot_history\")[-1]) == turn:\n",
        "                comment_insert = f' // on {action}, go to Dialog {dialog} Turn {turn} State {int(state)+1}'\n",
        "            elif extract_dialog_from_path(data[data.index(each_page) + 1].get(\"screenshot_history\")[-1]) == dialog and extract_turn_from_path(data[data.index(each_page) + 1].get(\"screenshot_history\")[-1]) != turn:\n",
        "                comment_insert = f' // on {action}, go to Dialog {dialog} Turn {int(turn)+1} State {0}'\n",
        "            elif extract_dialog_from_path(data[data.index(each_page) + 1].get(\"screenshot_history\")[-1]) != dialog:\n",
        "                comment_insert = f' // on {action}, go to Dialog {int(dialog)+1} Turn {0} State {0}'\n",
        "            html = insert_phrase_after_kth_newline(html, comment_insert, each_page.get(\"target\")+1)\n",
        "\n",
        "        all_html_list.append(html)\n",
        "\n",
        "    return all_html_list"
      ],
      "metadata": {
        "id": "4Y6IUCKXcbCi"
      },
      "execution_count": null,
      "outputs": []
    },
    {
      "cell_type": "code",
      "source": [
        "all_html_list = dict_to_html(data)"
      ],
      "metadata": {
        "id": "qL3aTVkartKO"
      },
      "execution_count": null,
      "outputs": []
    },
    {
      "cell_type": "code",
      "source": [
        "# processed_htmls_mytraindata_file_path = \"put your path here\"\n",
        "\n",
        "with open(processed_htmls_mytraindata_file_path, 'w') as file:\n",
        "    for each_html_string in all_html_list:\n",
        "        file.write(each_html_string + \"\\n\")\n"
      ],
      "metadata": {
        "id": "jh2vKfJ6zUEZ"
      },
      "execution_count": null,
      "outputs": []
    },
    {
      "cell_type": "code",
      "source": [
        "# processed_htmls_mytraindata_file_path = \"put your path here\"\n",
        "\n",
        "with open(processed_htmls_mytraindata_file_path, 'r') as file:\n",
        "    lines = file.readlines()\n",
        "    for line in lines:\n",
        "        print(line.strip())"
      ],
      "metadata": {
        "id": "FBBQlYYzz_Dk"
      },
      "execution_count": null,
      "outputs": []
    },
    {
      "cell_type": "code",
      "source": [
        "!pip install openai==0.28"
      ],
      "metadata": {
        "colab": {
          "base_uri": "https://localhost:8080/"
        },
        "id": "Y79VkH1_UCwd",
        "outputId": "0640c313-aa1f-4d24-90e8-1bf21be19216"
      },
      "execution_count": null,
      "outputs": []
    },
    {
      "cell_type": "code",
      "execution_count": null,
      "metadata": {
        "id": "47tmofi9TTtc"
      },
      "outputs": [],
      "source": [
        "def query_gpt(prompt, model_name=\"gpt-3.5-turbo\"):\n",
        "    import time\n",
        "    import openai\n",
        "    # openai.api_base = 'put your api base link here2'\n",
        "    # openai.api_key = 'put your api key here'\n",
        "\n",
        "    response = openai.ChatCompletion.create(\n",
        "        model=model_name,\n",
        "        messages=[\n",
        "            # {\"role\": \"system\", \"content\": \"You are a personal agent running in a smartphone.\"},\n",
        "            {\"role\": \"user\", \"content\": prompt},\n",
        "        ],\n",
        "        timeout=15\n",
        "    )\n",
        "    return response[\"choices\"][0][\"message\"][\"content\"]"
      ]
    },
    {
      "cell_type": "code",
      "source": [
        "prompt_prefix = (f'You are a mobile app testing expert. Given the description of the pages of an app, '\n",
        "                     f'you can understand '\n",
        "              f'the functions of the app and write useful functional tests. \\nNow suppose you are testing an app named '\n",
        "              f'\"{app_name}\". The states in the app are:\\n\\n')\n",
        "prompt_end = ('Please list some important use cases of this app. Each use case should be in the format: \\ntask '\n",
        "                'description: <a specific task that can be executed with this app, be specific about the parameters '\n",
        "                '(names, accounts, numbers, addresses, etc)>. Example: Find messages with Alice; Send a text '\n",
        "                'message \"Morning\" to Alice; etc. \\naction sequence: <a list of GUI actions to complete the task. '\n",
        "                'Each action includes action type (touch, long_touch, select, scroll down, set_text, etc.), '\n",
        "                'target element, and an optional input text (for set_text action). Example: touch {state 3 element '\n",
        "                '0 <button>Rename note</button>}> \\nYour answer should be a list, each element of which should be a '\n",
        "                'dict: {\"task\": <a task in the string>, \"actions\": <an action sequence to complete the task>}. For '\n",
        "                'example:  [{\"task\": <task1>, \"actions\": <action sequence1>}, {\"task\": <task2>, \"actions\": <action '\n",
        "                'sequence2>} ...]')"
      ],
      "metadata": {
        "id": "iJZTP-wNux51"
      },
      "execution_count": null,
      "outputs": []
    },
    {
      "cell_type": "code",
      "source": [
        "def get_first_dts_line(html):\n",
        "\n",
        "    newline_index = html.find('\\n')\n",
        "\n",
        "    res = html[:newline_index]\n",
        "\n",
        "    return res\n",
        "\n",
        "def get_dialog_and_turn_number(dts_line):\n",
        "\n",
        "\n",
        "    d_match = re.search(r'Dialog (\\d+)', dts_line)\n",
        "    t_match = re.search(r'Turn (\\d+)', dts_line)\n",
        "\n",
        "    if d_match and t_match:\n",
        "        return d_match.group(1), t_match.group(1)\n",
        "    else:\n",
        "        print(\"Dialog and Turn info is not completed\")\n",
        "        return None\n",
        "\n"
      ],
      "metadata": {
        "id": "DQtuFZAy9lju"
      },
      "execution_count": null,
      "outputs": []
    },
    {
      "cell_type": "code",
      "source": [
        "all_apps_dict = dict()\n",
        "last_dialog = 0\n",
        "last_turn = 0\n",
        "this_turn_htmls_str = ''\n",
        "for html_index in range(len(all_html_list)):\n",
        "    app_name = data[html_index].get(\"apps\", [])[0][4:]\n",
        "    if app_name not in all_apps_dict:\n",
        "        all_apps_dict[app_name] = dict()\n",
        "    dialog, turn = get_dialog_and_turn_number(get_first_dts_line(all_html_list[html_index]))\n",
        "    if dialog == last_dialog and turn == last_turn:\n",
        "        this_turn_htmls_str += all_html_list[html_index] + '\\n'\n",
        "    else:\n",
        "        all_apps_dict[app_name][len(all_apps_dict[app_name])] = prompt_prefix + this_turn_htmls_str + prompt_end\n",
        "        this_turn_htmls_str = all_html_list[html_index] + '\\n'\n",
        "    last_dialog = dialog\n",
        "    last_turn = turn\n"
      ],
      "metadata": {
        "id": "79oYsnheIEqT"
      },
      "execution_count": null,
      "outputs": []
    },
    {
      "cell_type": "code",
      "source": [
        "# save the processed data in terms of each turn for each app\n",
        "# each (screen) state is represented in html format\n",
        "\n",
        "import json\n",
        "\n",
        "# generate_all_tasks_prompts_file_path = \"put your path here\"\n",
        "\n",
        "with open(generate_all_tasks_prompts_file_path, 'w') as json_file:\n",
        "    json.dump(all_apps_dict, json_file, indent=4)"
      ],
      "metadata": {
        "id": "TNH0nMhUKxoN"
      },
      "execution_count": null,
      "outputs": []
    }
  ]
}
